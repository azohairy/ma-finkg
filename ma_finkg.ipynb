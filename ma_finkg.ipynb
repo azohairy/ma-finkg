{
 "cells": [
  {
   "cell_type": "code",
   "execution_count": 1,
   "id": "77f41d70",
   "metadata": {},
   "outputs": [],
   "source": [
    "api_key = \"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\""
   ]
  },
  {
   "cell_type": "markdown",
   "id": "dbc3ef47",
   "metadata": {},
   "source": []
  },
  {
   "cell_type": "code",
   "execution_count": 2,
   "id": "43c0c974",
   "metadata": {},
   "outputs": [],
   "source": [
    "from ma_finkg import MA_FinKG\n",
    "\n",
    "# Set OpenRouter API key and model  \n",
    "openrouter_key = api_key\n",
    "model = \"openai/gpt-4.1-mini\"\n",
    "\n",
    "# Initialize with explicit ontology choice (refind)\n",
    "kg = MA_FinKG(model=model, api_key=openrouter_key) # fire, nyt11, conllpp, refind - if not specified defaults to \"default\""
   ]
  },
  {
   "cell_type": "code",
   "execution_count": 5,
   "id": "f0b8878b",
   "metadata": {},
   "outputs": [
    {
     "name": "stdout",
     "output_type": "stream",
     "text": [
      "[0.0s] Starting knowledge graph construction...\n",
      "[1.0s] Creating ontology...\n",
      "\n",
      "[ONTOLOGY] Creating dynamic ontology for text: 1916 chars\n",
      "[3.3s] Creating ontology... done                                                                   \n",
      "[ONTOLOGY] Dynamic ontology creation succeeded\n",
      "\n",
      "[ONTOLOGY] Entity Types: ['Company', 'Revenue', 'Income', 'Chips', 'System', 'Country', 'President', 'Tax']\n",
      "[ONTOLOGY] Relation Types: ['Reported', 'Saw', 'Accounted for', 'Role in', 'Struggle to sell', 'Restricted sales to', 'Permitted to sell', 'Described as']\n",
      "[4.1s] Extracting entities and relations...\n",
      "[10.3s] NER completed: 15 entities                                                                  \n",
      "[21.4s] RE completed: 3 filtered triples                                                            \n",
      "\n",
      "[REVISION] Validated: 15/15 entities, 3/3 triples\n",
      "[22.2s] Finalizing results...\n",
      "[22.2s] Construction completed!\n",
      "[FINAL] Processing results from finalize\n",
      "[FINAL] Knowledge graph ready: 15 entities, 3 triples\n"
     ]
    }
   ],
   "source": [
    "# Sentence FIRE Example - Longer Text from Nvidia Article\n",
    "sent = \"Mr. Rooke owns and manages Rooke Fiduciary Management , a private trust company , which specializes in the investment management of publicly held securities and the oversight of a multitude of trust investments .\"\n",
    "text = \"\"\"\n",
    "Nvidia, the world’s most valuable company, reported another quarter of sustained sales growth in its earnings statement Wednesday, with $46.7 billion in revenue, a 56% increase compared to the same period last year. That growth was largely fueled by AI-dominated data center business, which saw a 56% year-over-year increase in revenue.\n",
    "Nvidia also saw its net income grow substantially since last year. The company reported a net income of $26.4 billion in the second quarter, a 59% spike since the same period last year. \n",
    "All told, the company brought in $41.1 billion in revenue from data center sales in the quarter, suggesting that AI companies’ demand for cutting-edge GPUs continues to grow. The company’s most advanced generation of chips, Blackwell, accounted for $27 billion of those sales.\n",
    "“Blackwell is the AI platform the world has been waiting for,” said CEO Jensen Huang in a statement accompanying the release. “The AI race is on, and Blackwell is the platform at its center.”\n",
    "The company made particular note of its role in the launch of OpenAI’s open source gpt-oss models earlier this month, which involved processing “1.5 million tokens per second on a single Nvidia Blackwell GB200 NVL72 rack-scale system.”\n",
    "The earnings also gave a look at Nvidia’s ongoing struggle to sell its chips in Chinese markets. The company reported no sales of its China-focused H20 chip to Chinese customers in the past quarter; Nvidia did report $650 million worth of H20 chips had been sold to a customer outside China.\n",
    "The United States has long restricted sales of advanced GPUs to Chinese customers — but the geopolitical situation has changed significantly under President Trump. The company is now permitted to sell chips to China as long as it pays a 15% export tax to the U.S. Treasury, as a result of an unconventional arrangement that legal scholars have described as an unconstitutional abuse of power. \n",
    "\"\"\"\n",
    "const = kg.generate(text)\n"
   ]
  },
  {
   "cell_type": "code",
   "execution_count": 12,
   "id": "37c12fea",
   "metadata": {},
   "outputs": [
    {
     "name": "stdout",
     "output_type": "stream",
     "text": [
      "[{'text': 'Nvidia', 'type': 'Company'}, {'text': 'OpenAI', 'type': 'Company'}, {'text': '$46.7 billion in revenue', 'type': 'Revenue'}, {'text': 'revenue', 'type': 'Revenue'}, {'text': '$41.1 billion in revenue', 'type': 'Revenue'}, {'text': 'net income', 'type': 'Income'}, {'text': 'net income of $26.4 billion', 'type': 'Income'}, {'text': 'Blackwell', 'type': 'Chips'}, {'text': 'H20 chip', 'type': 'Chips'}, {'text': 'H20 chips', 'type': 'Chips'}, {'text': 'Nvidia Blackwell GB200 NVL72 rack-scale system', 'type': 'System'}, {'text': 'China', 'type': 'Country'}, {'text': 'United States', 'type': 'Country'}, {'text': 'President Trump', 'type': 'President'}, {'text': '15% export tax', 'type': 'Tax'}]\n",
      "[{'head': 'Nvidia', 'relation': 'Saw', 'tail': 'OpenAI'}, {'head': 'Nvidia', 'relation': 'Role in', 'tail': 'OpenAI'}, {'head': 'Nvidia', 'relation': 'Permitted to sell', 'tail': 'China'}]\n"
     ]
    }
   ],
   "source": [
    "# Extracted Entities & Relations\n",
    "nodes = const.entities\n",
    "edges = const.triples\n",
    "print(nodes)\n",
    "print(edges)"
   ]
  },
  {
   "cell_type": "code",
   "execution_count": 17,
   "id": "f1dd8028",
   "metadata": {},
   "outputs": [
    {
     "name": "stdout",
     "output_type": "stream",
     "text": [
      "Nodes: 15, Edges: 2\n",
      "Sample nodes: ['Nvidia', 'OpenAI', '$46.7 billion in revenue', 'revenue', '$41.1 billion in revenue', 'net income', 'net income of $26.4 billion', 'Blackwell', 'H20 chip', 'H20 chips']\n",
      "Sample edges: [('Nvidia', 'OpenAI', {'relation': 'Role in', 'label': 'Role in'}), ('Nvidia', 'China', {'relation': 'Permitted to sell', 'label': 'Permitted to sell'})]\n"
     ]
    }
   ],
   "source": [
    "import networkx as nx\n",
    "from ipysigma import Sigma\n",
    "\n",
    "G = nx.DiGraph()\n",
    "for entity in nodes:\n",
    "    text = entity['text']\n",
    "    etype = entity['type']\n",
    "    G.add_node(text, etype=etype, label=text)\n",
    "\n",
    "for triple in edges:\n",
    "    head = triple['head']\n",
    "    relation = triple['relation']\n",
    "    tail = triple['tail']\n",
    "\n",
    "    if head not in G:\n",
    "        G.add_node(head, etype=\"Value\", label=head)\n",
    "    if tail not in G:\n",
    "        G.add_node(tail, etype=\"Value\", label=tail)\n",
    "    G.add_edge(head, tail, relation=relation, label=relation)\n",
    "\n",
    "# Check graph properties\n",
    "print(f\"Nodes: {G.number_of_nodes()}, Edges: {G.number_of_edges()}\")\n",
    "print(\"Sample nodes:\", list(G.nodes())[:10])\n",
    "print(\"Sample edges:\", list(G.edges(data=True))[:10])"
   ]
  },
  {
   "cell_type": "code",
   "execution_count": 16,
   "id": "ae59ba18",
   "metadata": {},
   "outputs": [
    {
     "data": {
      "application/vnd.jupyter.widget-view+json": {
       "model_id": "70ee5abbb4184b69ab755e0ae13e1c36",
       "version_major": 2,
       "version_minor": 0
      },
      "text/plain": [
       "Sigma(nx.DiGraph with 15 nodes and 2 edges)"
      ]
     },
     "execution_count": 16,
     "metadata": {},
     "output_type": "execute_result"
    }
   ],
   "source": [
    "# Visualize KG Graph\n",
    "\n",
    "Sigma(\n",
    "    G,\n",
    "    node_label=\"label\",\n",
    "    node_color=\"etype\",\n",
    "    edge_label=\"label\"\n",
    ")"
   ]
  }
 ],
 "metadata": {
  "kernelspec": {
   "display_name": "kg_env",
   "language": "python",
   "name": "python3"
  },
  "language_info": {
   "codemirror_mode": {
    "name": "ipython",
    "version": 3
   },
   "file_extension": ".py",
   "mimetype": "text/x-python",
   "name": "python",
   "nbconvert_exporter": "python",
   "pygments_lexer": "ipython3",
   "version": "3.13.3"
  }
 },
 "nbformat": 4,
 "nbformat_minor": 5
}
